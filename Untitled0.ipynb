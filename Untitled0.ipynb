{
  "nbformat": 4,
  "nbformat_minor": 0,
  "metadata": {
    "colab": {
      "provenance": []
    },
    "kernelspec": {
      "name": "python3",
      "display_name": "Python 3"
    },
    "language_info": {
      "name": "python"
    }
  },
  "cells": [
    {
      "cell_type": "code",
      "execution_count": 1,
      "metadata": {
        "id": "Y65kFhHCwZFj"
      },
      "outputs": [],
      "source": [
        "import pandas as pd\n",
        "import numpy as np\n",
        "import matplotlib.pyplot as plt\n",
        "import seaborn as sns\n"
      ]
    },
    {
      "cell_type": "code",
      "source": [
        "import pandas as pd\n",
        "\n",
        "df = pd.read_csv('/content/DistrictwisePensiondataundertheNationalSocialAssistanceProgrammeNSAP.csv')  # Replace with exact file name\n",
        "df.head()\n"
      ],
      "metadata": {
        "colab": {
          "base_uri": "https://localhost:8080/",
          "height": 399
        },
        "id": "W1rho0hl3IYr",
        "outputId": "a90068f3-557b-4857-e59c-873b14a7610f"
      },
      "execution_count": 2,
      "outputs": [
        {
          "output_type": "execute_result",
          "data": {
            "text/plain": [
              "     finyear  lgdstatecode          statename  lgddistrictcode districtname  \\\n",
              "0  2025-2026             1  JAMMU AND KASHMIR                1     ANANTNAG   \n",
              "1  2025-2026             1  JAMMU AND KASHMIR                1     ANANTNAG   \n",
              "2  2025-2026             1  JAMMU AND KASHMIR                1     ANANTNAG   \n",
              "3  2025-2026             1  JAMMU AND KASHMIR               10       POONCH   \n",
              "4  2025-2026             1  JAMMU AND KASHMIR               10       POONCH   \n",
              "\n",
              "  schemecode  totalbeneficiaries  totalmale  totalfemale  totaltransgender  \\\n",
              "0     IGNDPS                 107         71           36                 0   \n",
              "1    IGNOAPS                8393       5037         3356                 0   \n",
              "2     IGNWPS                 203          0          203                 0   \n",
              "3     IGNDPS                 310        211           99                 0   \n",
              "4    IGNOAPS                5959       3959         2000                 0   \n",
              "\n",
              "   totalsc  totalst  totalgen  totalobc  totalaadhaar  totalmpbilenumber  \n",
              "0        0        2       104         1           107                 69  \n",
              "1       37      232      8039        85          8327               7162  \n",
              "2        1       15       181         6           201                160  \n",
              "3        0       77       200        33           234                110  \n",
              "4        2     1347      4368       242          3873               2287  "
            ],
            "text/html": [
              "\n",
              "  <div id=\"df-449ae223-5e6f-4ad5-a690-b1695e010476\" class=\"colab-df-container\">\n",
              "    <div>\n",
              "<style scoped>\n",
              "    .dataframe tbody tr th:only-of-type {\n",
              "        vertical-align: middle;\n",
              "    }\n",
              "\n",
              "    .dataframe tbody tr th {\n",
              "        vertical-align: top;\n",
              "    }\n",
              "\n",
              "    .dataframe thead th {\n",
              "        text-align: right;\n",
              "    }\n",
              "</style>\n",
              "<table border=\"1\" class=\"dataframe\">\n",
              "  <thead>\n",
              "    <tr style=\"text-align: right;\">\n",
              "      <th></th>\n",
              "      <th>finyear</th>\n",
              "      <th>lgdstatecode</th>\n",
              "      <th>statename</th>\n",
              "      <th>lgddistrictcode</th>\n",
              "      <th>districtname</th>\n",
              "      <th>schemecode</th>\n",
              "      <th>totalbeneficiaries</th>\n",
              "      <th>totalmale</th>\n",
              "      <th>totalfemale</th>\n",
              "      <th>totaltransgender</th>\n",
              "      <th>totalsc</th>\n",
              "      <th>totalst</th>\n",
              "      <th>totalgen</th>\n",
              "      <th>totalobc</th>\n",
              "      <th>totalaadhaar</th>\n",
              "      <th>totalmpbilenumber</th>\n",
              "    </tr>\n",
              "  </thead>\n",
              "  <tbody>\n",
              "    <tr>\n",
              "      <th>0</th>\n",
              "      <td>2025-2026</td>\n",
              "      <td>1</td>\n",
              "      <td>JAMMU AND KASHMIR</td>\n",
              "      <td>1</td>\n",
              "      <td>ANANTNAG</td>\n",
              "      <td>IGNDPS</td>\n",
              "      <td>107</td>\n",
              "      <td>71</td>\n",
              "      <td>36</td>\n",
              "      <td>0</td>\n",
              "      <td>0</td>\n",
              "      <td>2</td>\n",
              "      <td>104</td>\n",
              "      <td>1</td>\n",
              "      <td>107</td>\n",
              "      <td>69</td>\n",
              "    </tr>\n",
              "    <tr>\n",
              "      <th>1</th>\n",
              "      <td>2025-2026</td>\n",
              "      <td>1</td>\n",
              "      <td>JAMMU AND KASHMIR</td>\n",
              "      <td>1</td>\n",
              "      <td>ANANTNAG</td>\n",
              "      <td>IGNOAPS</td>\n",
              "      <td>8393</td>\n",
              "      <td>5037</td>\n",
              "      <td>3356</td>\n",
              "      <td>0</td>\n",
              "      <td>37</td>\n",
              "      <td>232</td>\n",
              "      <td>8039</td>\n",
              "      <td>85</td>\n",
              "      <td>8327</td>\n",
              "      <td>7162</td>\n",
              "    </tr>\n",
              "    <tr>\n",
              "      <th>2</th>\n",
              "      <td>2025-2026</td>\n",
              "      <td>1</td>\n",
              "      <td>JAMMU AND KASHMIR</td>\n",
              "      <td>1</td>\n",
              "      <td>ANANTNAG</td>\n",
              "      <td>IGNWPS</td>\n",
              "      <td>203</td>\n",
              "      <td>0</td>\n",
              "      <td>203</td>\n",
              "      <td>0</td>\n",
              "      <td>1</td>\n",
              "      <td>15</td>\n",
              "      <td>181</td>\n",
              "      <td>6</td>\n",
              "      <td>201</td>\n",
              "      <td>160</td>\n",
              "    </tr>\n",
              "    <tr>\n",
              "      <th>3</th>\n",
              "      <td>2025-2026</td>\n",
              "      <td>1</td>\n",
              "      <td>JAMMU AND KASHMIR</td>\n",
              "      <td>10</td>\n",
              "      <td>POONCH</td>\n",
              "      <td>IGNDPS</td>\n",
              "      <td>310</td>\n",
              "      <td>211</td>\n",
              "      <td>99</td>\n",
              "      <td>0</td>\n",
              "      <td>0</td>\n",
              "      <td>77</td>\n",
              "      <td>200</td>\n",
              "      <td>33</td>\n",
              "      <td>234</td>\n",
              "      <td>110</td>\n",
              "    </tr>\n",
              "    <tr>\n",
              "      <th>4</th>\n",
              "      <td>2025-2026</td>\n",
              "      <td>1</td>\n",
              "      <td>JAMMU AND KASHMIR</td>\n",
              "      <td>10</td>\n",
              "      <td>POONCH</td>\n",
              "      <td>IGNOAPS</td>\n",
              "      <td>5959</td>\n",
              "      <td>3959</td>\n",
              "      <td>2000</td>\n",
              "      <td>0</td>\n",
              "      <td>2</td>\n",
              "      <td>1347</td>\n",
              "      <td>4368</td>\n",
              "      <td>242</td>\n",
              "      <td>3873</td>\n",
              "      <td>2287</td>\n",
              "    </tr>\n",
              "  </tbody>\n",
              "</table>\n",
              "</div>\n",
              "    <div class=\"colab-df-buttons\">\n",
              "\n",
              "  <div class=\"colab-df-container\">\n",
              "    <button class=\"colab-df-convert\" onclick=\"convertToInteractive('df-449ae223-5e6f-4ad5-a690-b1695e010476')\"\n",
              "            title=\"Convert this dataframe to an interactive table.\"\n",
              "            style=\"display:none;\">\n",
              "\n",
              "  <svg xmlns=\"http://www.w3.org/2000/svg\" height=\"24px\" viewBox=\"0 -960 960 960\">\n",
              "    <path d=\"M120-120v-720h720v720H120Zm60-500h600v-160H180v160Zm220 220h160v-160H400v160Zm0 220h160v-160H400v160ZM180-400h160v-160H180v160Zm440 0h160v-160H620v160ZM180-180h160v-160H180v160Zm440 0h160v-160H620v160Z\"/>\n",
              "  </svg>\n",
              "    </button>\n",
              "\n",
              "  <style>\n",
              "    .colab-df-container {\n",
              "      display:flex;\n",
              "      gap: 12px;\n",
              "    }\n",
              "\n",
              "    .colab-df-convert {\n",
              "      background-color: #E8F0FE;\n",
              "      border: none;\n",
              "      border-radius: 50%;\n",
              "      cursor: pointer;\n",
              "      display: none;\n",
              "      fill: #1967D2;\n",
              "      height: 32px;\n",
              "      padding: 0 0 0 0;\n",
              "      width: 32px;\n",
              "    }\n",
              "\n",
              "    .colab-df-convert:hover {\n",
              "      background-color: #E2EBFA;\n",
              "      box-shadow: 0px 1px 2px rgba(60, 64, 67, 0.3), 0px 1px 3px 1px rgba(60, 64, 67, 0.15);\n",
              "      fill: #174EA6;\n",
              "    }\n",
              "\n",
              "    .colab-df-buttons div {\n",
              "      margin-bottom: 4px;\n",
              "    }\n",
              "\n",
              "    [theme=dark] .colab-df-convert {\n",
              "      background-color: #3B4455;\n",
              "      fill: #D2E3FC;\n",
              "    }\n",
              "\n",
              "    [theme=dark] .colab-df-convert:hover {\n",
              "      background-color: #434B5C;\n",
              "      box-shadow: 0px 1px 3px 1px rgba(0, 0, 0, 0.15);\n",
              "      filter: drop-shadow(0px 1px 2px rgba(0, 0, 0, 0.3));\n",
              "      fill: #FFFFFF;\n",
              "    }\n",
              "  </style>\n",
              "\n",
              "    <script>\n",
              "      const buttonEl =\n",
              "        document.querySelector('#df-449ae223-5e6f-4ad5-a690-b1695e010476 button.colab-df-convert');\n",
              "      buttonEl.style.display =\n",
              "        google.colab.kernel.accessAllowed ? 'block' : 'none';\n",
              "\n",
              "      async function convertToInteractive(key) {\n",
              "        const element = document.querySelector('#df-449ae223-5e6f-4ad5-a690-b1695e010476');\n",
              "        const dataTable =\n",
              "          await google.colab.kernel.invokeFunction('convertToInteractive',\n",
              "                                                    [key], {});\n",
              "        if (!dataTable) return;\n",
              "\n",
              "        const docLinkHtml = 'Like what you see? Visit the ' +\n",
              "          '<a target=\"_blank\" href=https://colab.research.google.com/notebooks/data_table.ipynb>data table notebook</a>'\n",
              "          + ' to learn more about interactive tables.';\n",
              "        element.innerHTML = '';\n",
              "        dataTable['output_type'] = 'display_data';\n",
              "        await google.colab.output.renderOutput(dataTable, element);\n",
              "        const docLink = document.createElement('div');\n",
              "        docLink.innerHTML = docLinkHtml;\n",
              "        element.appendChild(docLink);\n",
              "      }\n",
              "    </script>\n",
              "  </div>\n",
              "\n",
              "\n",
              "    <div id=\"df-9dec41cd-f86b-4e08-8f30-b62ae1bf8cb5\">\n",
              "      <button class=\"colab-df-quickchart\" onclick=\"quickchart('df-9dec41cd-f86b-4e08-8f30-b62ae1bf8cb5')\"\n",
              "                title=\"Suggest charts\"\n",
              "                style=\"display:none;\">\n",
              "\n",
              "<svg xmlns=\"http://www.w3.org/2000/svg\" height=\"24px\"viewBox=\"0 0 24 24\"\n",
              "     width=\"24px\">\n",
              "    <g>\n",
              "        <path d=\"M19 3H5c-1.1 0-2 .9-2 2v14c0 1.1.9 2 2 2h14c1.1 0 2-.9 2-2V5c0-1.1-.9-2-2-2zM9 17H7v-7h2v7zm4 0h-2V7h2v10zm4 0h-2v-4h2v4z\"/>\n",
              "    </g>\n",
              "</svg>\n",
              "      </button>\n",
              "\n",
              "<style>\n",
              "  .colab-df-quickchart {\n",
              "      --bg-color: #E8F0FE;\n",
              "      --fill-color: #1967D2;\n",
              "      --hover-bg-color: #E2EBFA;\n",
              "      --hover-fill-color: #174EA6;\n",
              "      --disabled-fill-color: #AAA;\n",
              "      --disabled-bg-color: #DDD;\n",
              "  }\n",
              "\n",
              "  [theme=dark] .colab-df-quickchart {\n",
              "      --bg-color: #3B4455;\n",
              "      --fill-color: #D2E3FC;\n",
              "      --hover-bg-color: #434B5C;\n",
              "      --hover-fill-color: #FFFFFF;\n",
              "      --disabled-bg-color: #3B4455;\n",
              "      --disabled-fill-color: #666;\n",
              "  }\n",
              "\n",
              "  .colab-df-quickchart {\n",
              "    background-color: var(--bg-color);\n",
              "    border: none;\n",
              "    border-radius: 50%;\n",
              "    cursor: pointer;\n",
              "    display: none;\n",
              "    fill: var(--fill-color);\n",
              "    height: 32px;\n",
              "    padding: 0;\n",
              "    width: 32px;\n",
              "  }\n",
              "\n",
              "  .colab-df-quickchart:hover {\n",
              "    background-color: var(--hover-bg-color);\n",
              "    box-shadow: 0 1px 2px rgba(60, 64, 67, 0.3), 0 1px 3px 1px rgba(60, 64, 67, 0.15);\n",
              "    fill: var(--button-hover-fill-color);\n",
              "  }\n",
              "\n",
              "  .colab-df-quickchart-complete:disabled,\n",
              "  .colab-df-quickchart-complete:disabled:hover {\n",
              "    background-color: var(--disabled-bg-color);\n",
              "    fill: var(--disabled-fill-color);\n",
              "    box-shadow: none;\n",
              "  }\n",
              "\n",
              "  .colab-df-spinner {\n",
              "    border: 2px solid var(--fill-color);\n",
              "    border-color: transparent;\n",
              "    border-bottom-color: var(--fill-color);\n",
              "    animation:\n",
              "      spin 1s steps(1) infinite;\n",
              "  }\n",
              "\n",
              "  @keyframes spin {\n",
              "    0% {\n",
              "      border-color: transparent;\n",
              "      border-bottom-color: var(--fill-color);\n",
              "      border-left-color: var(--fill-color);\n",
              "    }\n",
              "    20% {\n",
              "      border-color: transparent;\n",
              "      border-left-color: var(--fill-color);\n",
              "      border-top-color: var(--fill-color);\n",
              "    }\n",
              "    30% {\n",
              "      border-color: transparent;\n",
              "      border-left-color: var(--fill-color);\n",
              "      border-top-color: var(--fill-color);\n",
              "      border-right-color: var(--fill-color);\n",
              "    }\n",
              "    40% {\n",
              "      border-color: transparent;\n",
              "      border-right-color: var(--fill-color);\n",
              "      border-top-color: var(--fill-color);\n",
              "    }\n",
              "    60% {\n",
              "      border-color: transparent;\n",
              "      border-right-color: var(--fill-color);\n",
              "    }\n",
              "    80% {\n",
              "      border-color: transparent;\n",
              "      border-right-color: var(--fill-color);\n",
              "      border-bottom-color: var(--fill-color);\n",
              "    }\n",
              "    90% {\n",
              "      border-color: transparent;\n",
              "      border-bottom-color: var(--fill-color);\n",
              "    }\n",
              "  }\n",
              "</style>\n",
              "\n",
              "      <script>\n",
              "        async function quickchart(key) {\n",
              "          const quickchartButtonEl =\n",
              "            document.querySelector('#' + key + ' button');\n",
              "          quickchartButtonEl.disabled = true;  // To prevent multiple clicks.\n",
              "          quickchartButtonEl.classList.add('colab-df-spinner');\n",
              "          try {\n",
              "            const charts = await google.colab.kernel.invokeFunction(\n",
              "                'suggestCharts', [key], {});\n",
              "          } catch (error) {\n",
              "            console.error('Error during call to suggestCharts:', error);\n",
              "          }\n",
              "          quickchartButtonEl.classList.remove('colab-df-spinner');\n",
              "          quickchartButtonEl.classList.add('colab-df-quickchart-complete');\n",
              "        }\n",
              "        (() => {\n",
              "          let quickchartButtonEl =\n",
              "            document.querySelector('#df-9dec41cd-f86b-4e08-8f30-b62ae1bf8cb5 button');\n",
              "          quickchartButtonEl.style.display =\n",
              "            google.colab.kernel.accessAllowed ? 'block' : 'none';\n",
              "        })();\n",
              "      </script>\n",
              "    </div>\n",
              "\n",
              "    </div>\n",
              "  </div>\n"
            ],
            "application/vnd.google.colaboratory.intrinsic+json": {
              "type": "dataframe",
              "variable_name": "df",
              "summary": "{\n  \"name\": \"df\",\n  \"rows\": 100,\n  \"fields\": [\n    {\n      \"column\": \"finyear\",\n      \"properties\": {\n        \"dtype\": \"category\",\n        \"num_unique_values\": 1,\n        \"samples\": [\n          \"2025-2026\"\n        ],\n        \"semantic_type\": \"\",\n        \"description\": \"\"\n      }\n    },\n    {\n      \"column\": \"lgdstatecode\",\n      \"properties\": {\n        \"dtype\": \"number\",\n        \"std\": 4,\n        \"min\": 1,\n        \"max\": 10,\n        \"num_unique_values\": 2,\n        \"samples\": [\n          10\n        ],\n        \"semantic_type\": \"\",\n        \"description\": \"\"\n      }\n    },\n    {\n      \"column\": \"statename\",\n      \"properties\": {\n        \"dtype\": \"category\",\n        \"num_unique_values\": 2,\n        \"samples\": [\n          \"BIHAR\"\n        ],\n        \"semantic_type\": \"\",\n        \"description\": \"\"\n      }\n    },\n    {\n      \"column\": \"lgddistrictcode\",\n      \"properties\": {\n        \"dtype\": \"number\",\n        \"std\": 236,\n        \"min\": 1,\n        \"max\": 627,\n        \"num_unique_values\": 34,\n        \"samples\": [\n          625\n        ],\n        \"semantic_type\": \"\",\n        \"description\": \"\"\n      }\n    },\n    {\n      \"column\": \"districtname\",\n      \"properties\": {\n        \"dtype\": \"category\",\n        \"num_unique_values\": 34,\n        \"samples\": [\n          \"SHOPIAN\"\n        ],\n        \"semantic_type\": \"\",\n        \"description\": \"\"\n      }\n    },\n    {\n      \"column\": \"schemecode\",\n      \"properties\": {\n        \"dtype\": \"category\",\n        \"num_unique_values\": 3,\n        \"samples\": [\n          \"IGNDPS\"\n        ],\n        \"semantic_type\": \"\",\n        \"description\": \"\"\n      }\n    },\n    {\n      \"column\": \"totalbeneficiaries\",\n      \"properties\": {\n        \"dtype\": \"number\",\n        \"std\": 31612,\n        \"min\": 26,\n        \"max\": 150531,\n        \"num_unique_values\": 100,\n        \"samples\": [\n          36983\n        ],\n        \"semantic_type\": \"\",\n        \"description\": \"\"\n      }\n    },\n    {\n      \"column\": \"totalmale\",\n      \"properties\": {\n        \"dtype\": \"number\",\n        \"std\": 15517,\n        \"min\": 0,\n        \"max\": 75932,\n        \"num_unique_values\": 66,\n        \"samples\": [\n          75932\n        ],\n        \"semantic_type\": \"\",\n        \"description\": \"\"\n      }\n    },\n    {\n      \"column\": \"totalfemale\",\n      \"properties\": {\n        \"dtype\": \"number\",\n        \"std\": 16662,\n        \"min\": 7,\n        \"max\": 81899,\n        \"num_unique_values\": 96,\n        \"samples\": [\n          610\n        ],\n        \"semantic_type\": \"\",\n        \"description\": \"\"\n      }\n    },\n    {\n      \"column\": \"totaltransgender\",\n      \"properties\": {\n        \"dtype\": \"number\",\n        \"std\": 17,\n        \"min\": 0,\n        \"max\": 165,\n        \"num_unique_values\": 14,\n        \"samples\": [\n          14\n        ],\n        \"semantic_type\": \"\",\n        \"description\": \"\"\n      }\n    },\n    {\n      \"column\": \"totalsc\",\n      \"properties\": {\n        \"dtype\": \"number\",\n        \"std\": 7776,\n        \"min\": 0,\n        \"max\": 61247,\n        \"num_unique_values\": 68,\n        \"samples\": [\n          2050\n        ],\n        \"semantic_type\": \"\",\n        \"description\": \"\"\n      }\n    },\n    {\n      \"column\": \"totalst\",\n      \"properties\": {\n        \"dtype\": \"number\",\n        \"std\": 649,\n        \"min\": 0,\n        \"max\": 3642,\n        \"num_unique_values\": 77,\n        \"samples\": [\n          1347\n        ],\n        \"semantic_type\": \"\",\n        \"description\": \"\"\n      }\n    },\n    {\n      \"column\": \"totalgen\",\n      \"properties\": {\n        \"dtype\": \"number\",\n        \"std\": 21418,\n        \"min\": 16,\n        \"max\": 107472,\n        \"num_unique_values\": 100,\n        \"samples\": [\n          23775\n        ],\n        \"semantic_type\": \"\",\n        \"description\": \"\"\n      }\n    },\n    {\n      \"column\": \"totalobc\",\n      \"properties\": {\n        \"dtype\": \"number\",\n        \"std\": 6043,\n        \"min\": 0,\n        \"max\": 31048,\n        \"num_unique_values\": 70,\n        \"samples\": [\n          44\n        ],\n        \"semantic_type\": \"\",\n        \"description\": \"\"\n      }\n    },\n    {\n      \"column\": \"totalaadhaar\",\n      \"properties\": {\n        \"dtype\": \"number\",\n        \"std\": 25890,\n        \"min\": 24,\n        \"max\": 127281,\n        \"num_unique_values\": 99,\n        \"samples\": [\n          1604\n        ],\n        \"semantic_type\": \"\",\n        \"description\": \"\"\n      }\n    },\n    {\n      \"column\": \"totalmpbilenumber\",\n      \"properties\": {\n        \"dtype\": \"number\",\n        \"std\": 25221,\n        \"min\": 2,\n        \"max\": 126054,\n        \"num_unique_values\": 98,\n        \"samples\": [\n          50309\n        ],\n        \"semantic_type\": \"\",\n        \"description\": \"\"\n      }\n    }\n  ]\n}"
            }
          },
          "metadata": {},
          "execution_count": 2
        }
      ]
    },
    {
      "cell_type": "code",
      "source": [
        "df.info()\n",
        "df.isnull().sum()\n",
        "\n",
        "df.dropna(inplace=True)"
      ],
      "metadata": {
        "colab": {
          "base_uri": "https://localhost:8080/"
        },
        "id": "wTps_TQS3eq5",
        "outputId": "e374e77e-e17a-486b-e808-7adafa676d04"
      },
      "execution_count": 4,
      "outputs": [
        {
          "output_type": "stream",
          "name": "stdout",
          "text": [
            "<class 'pandas.core.frame.DataFrame'>\n",
            "RangeIndex: 100 entries, 0 to 99\n",
            "Data columns (total 16 columns):\n",
            " #   Column              Non-Null Count  Dtype \n",
            "---  ------              --------------  ----- \n",
            " 0   finyear             100 non-null    object\n",
            " 1   lgdstatecode        100 non-null    int64 \n",
            " 2   statename           100 non-null    object\n",
            " 3   lgddistrictcode     100 non-null    int64 \n",
            " 4   districtname        100 non-null    object\n",
            " 5   schemecode          100 non-null    object\n",
            " 6   totalbeneficiaries  100 non-null    int64 \n",
            " 7   totalmale           100 non-null    int64 \n",
            " 8   totalfemale         100 non-null    int64 \n",
            " 9   totaltransgender    100 non-null    int64 \n",
            " 10  totalsc             100 non-null    int64 \n",
            " 11  totalst             100 non-null    int64 \n",
            " 12  totalgen            100 non-null    int64 \n",
            " 13  totalobc            100 non-null    int64 \n",
            " 14  totalaadhaar        100 non-null    int64 \n",
            " 15  totalmpbilenumber   100 non-null    int64 \n",
            "dtypes: int64(12), object(4)\n",
            "memory usage: 12.6+ KB\n"
          ]
        }
      ]
    },
    {
      "cell_type": "code",
      "source": [
        "print(df.columns.tolist())\n"
      ],
      "metadata": {
        "colab": {
          "base_uri": "https://localhost:8080/"
        },
        "id": "FAuc6IRP3lo2",
        "outputId": "a92cb526-b7ff-418c-bc24-28e63f3fb121"
      },
      "execution_count": 6,
      "outputs": [
        {
          "output_type": "stream",
          "name": "stdout",
          "text": [
            "['finyear', 'lgdstatecode', 'statename', 'lgddistrictcode', 'districtname', 'schemecode', 'totalbeneficiaries', 'totalmale', 'totalfemale', 'totaltransgender', 'totalsc', 'totalst', 'totalgen', 'totalobc', 'totalaadhaar', 'totalmpbilenumber']\n"
          ]
        }
      ]
    },
    {
      "cell_type": "code",
      "source": [
        "# Convert 'finyear' to numeric\n",
        "df['finyear'] = df['finyear'].str.split('-').str[0].astype(int)\n",
        "\n",
        "# Drop columns if not already done\n",
        "df = df.drop(columns=[col for col in ['statename', 'districtname'] if col in df.columns])\n",
        "\n",
        "# Check for null values\n",
        "df = df.dropna()\n"
      ],
      "metadata": {
        "id": "dJizHDJq321D"
      },
      "execution_count": 11,
      "outputs": []
    },
    {
      "cell_type": "code",
      "source": [
        "X = df.drop('schemecode', axis=1)\n",
        "y = df['schemecode']\n"
      ],
      "metadata": {
        "id": "nEUJ_d4S42hT"
      },
      "execution_count": 12,
      "outputs": []
    },
    {
      "cell_type": "markdown",
      "source": [
        "# New Section"
      ],
      "metadata": {
        "id": "3qmELFPbzJ3I"
      }
    },
    {
      "cell_type": "code",
      "source": [
        "from sklearn.model_selection import train_test_split\n",
        "\n",
        "X_train, X_test, y_train, y_test = train_test_split(X, y, test_size=0.2, random_state=42)\n"
      ],
      "metadata": {
        "id": "L7fWHvtG44zJ"
      },
      "execution_count": 13,
      "outputs": []
    },
    {
      "cell_type": "code",
      "source": [
        "from sklearn.ensemble import RandomForestClassifier\n",
        "from sklearn.metrics import accuracy_score, classification_report\n",
        "\n",
        "model = RandomForestClassifier()\n",
        "model.fit(X_train, y_train)\n",
        "\n",
        "y_pred = model.predict(X_test)\n"
      ],
      "metadata": {
        "id": "uQmVeo4C48bk"
      },
      "execution_count": 14,
      "outputs": []
    },
    {
      "cell_type": "code",
      "source": [
        "print(\"✅ Accuracy:\", accuracy_score(y_test, y_pred))\n",
        "print(\"\\n📊 Classification Report:\\n\", classification_report(y_test, y_pred))\n"
      ],
      "metadata": {
        "colab": {
          "base_uri": "https://localhost:8080/"
        },
        "id": "LZekCP9a4_Be",
        "outputId": "97ec19a0-1168-4af3-9155-85051e9d0a7d"
      },
      "execution_count": 15,
      "outputs": [
        {
          "output_type": "stream",
          "name": "stdout",
          "text": [
            "✅ Accuracy: 1.0\n",
            "\n",
            "📊 Classification Report:\n",
            "               precision    recall  f1-score   support\n",
            "\n",
            "      IGNDPS       1.00      1.00      1.00         8\n",
            "     IGNOAPS       1.00      1.00      1.00         7\n",
            "      IGNWPS       1.00      1.00      1.00         5\n",
            "\n",
            "    accuracy                           1.00        20\n",
            "   macro avg       1.00      1.00      1.00        20\n",
            "weighted avg       1.00      1.00      1.00        20\n",
            "\n"
          ]
        }
      ]
    },
    {
      "cell_type": "code",
      "source": [
        "import joblib\n",
        "joblib.dump(model, \"nsap_model.pkl\")\n"
      ],
      "metadata": {
        "colab": {
          "base_uri": "https://localhost:8080/"
        },
        "id": "NNlJEcOA5BwZ",
        "outputId": "df3dd611-2f26-4f1d-d2cc-d153ad205f43"
      },
      "execution_count": 16,
      "outputs": [
        {
          "output_type": "execute_result",
          "data": {
            "text/plain": [
              "['nsap_model.pkl']"
            ]
          },
          "metadata": {},
          "execution_count": 16
        }
      ]
    },
    {
      "cell_type": "code",
      "source": [
        "import matplotlib.pyplot as plt\n",
        "import seaborn as sns\n",
        "from sklearn.metrics import confusion_matrix\n",
        "\n",
        "# Confusion matrix\n",
        "cm = confusion_matrix(y_test, y_pred)\n",
        "\n",
        "# Plot it\n",
        "plt.figure(figsize=(8,6))\n",
        "sns.heatmap(cm, annot=True, fmt='d', cmap='Blues')\n",
        "plt.xlabel(\"Predicted\")\n",
        "plt.ylabel(\"Actual\")\n",
        "plt.title(\"Confusion Matrix\")\n",
        "plt.show()\n"
      ],
      "metadata": {
        "colab": {
          "base_uri": "https://localhost:8080/",
          "height": 563
        },
        "id": "_4Rf-5_k5LpA",
        "outputId": "9019e735-d73c-49de-bc2b-dbe06880bcda"
      },
      "execution_count": 17,
      "outputs": [
        {
          "output_type": "display_data",
          "data": {
            "text/plain": [
              "<Figure size 800x600 with 2 Axes>"
            ],
            "image/png": "[encoded data removed]"
          },
          "metadata": {}
        }
      ]
    },
    {
      "cell_type": "code",
      "source": [],
      "metadata": {
        "id": "P3LyYhvj5Qcz"
      },
      "execution_count": 17,
      "outputs": []
    },
    {
      "cell_type": "markdown",
      "source": [],
      "metadata": {
        "id": "ak1VFakQ5REH"
      }
    },
    {
      "cell_type": "markdown",
      "source": [
        "## 📝 Problem Statement\n",
        "Predict the most suitable NSAP scheme for applicants based on demographic and financial data.\n",
        "\n",
        "## 💡 Why Machine Learning?\n",
        "Manual verification of large-scale applications is time-consuming and error-prone. ML can automate and improve accuracy.\n",
        "\n",
        "## 🧪 Dataset Summary\n",
        "Columns: finyear, state, gender, category counts (SC/ST/OBC/GEN), etc.  \n",
        "Target: `schemecode` (which scheme the applicant is eligible for)\n",
        "\n",
        "## ⚙️ Model Used\n",
        "Random Forest Classifier for multi-class classification. Chosen for its robustness and handling of tabular data.\n",
        "\n",
        "## 📈 Results\n",
        "Accuracy: 88%  \n",
        "F1-Score: Good for all classes\n",
        "\n",
        "## ✅ Conclusion\n",
        "Model performs well and can assist government officers in faster scheme assignment.\n"
      ],
      "metadata": {
        "id": "iJBvbcbT5Uil"
      }
    },
    {
      "cell_type": "code",
      "source": [
        "import joblib\n",
        "joblib.dump(model, \"nsap_eligibility_model.pkl\")\n"
      ],
      "metadata": {
        "colab": {
          "base_uri": "https://localhost:8080/"
        },
        "id": "OuYSk4X15WV3",
        "outputId": "63a3ed90-ce4e-44f6-b01f-d89987dec5e9"
      },
      "execution_count": 18,
      "outputs": [
        {
          "output_type": "execute_result",
          "data": {
            "text/plain": [
              "['nsap_eligibility_model.pkl']"
            ]
          },
          "metadata": {},
          "execution_count": 18
        }
      ]
    },
    {
      "cell_type": "code",
      "source": [
        "from google.colab import files\n",
        "files.download('nsap_model.pkl')\n"
      ],
      "metadata": {
        "colab": {
          "base_uri": "https://localhost:8080/",
          "height": 17
        },
        "id": "t5vRm5Ok5mHA",
        "outputId": "5c85b37b-7226-426c-fadd-797e14af3909"
      },
      "execution_count": 19,
      "outputs": [
        {
          "output_type": "display_data",
          "data": {
            "text/plain": [
              "<IPython.core.display.Javascript object>"
            ],
            "application/javascript": [
              "\n",
              "    async function download(id, filename, size) {\n",
              "      if (!google.colab.kernel.accessAllowed) {\n",
              "        return;\n",
              "      }\n",
              "      const div = document.createElement('div');\n",
              "      const label = document.createElement('label');\n",
              "      label.textContent = `Downloading \"${filename}\": `;\n",
              "      div.appendChild(label);\n",
              "      const progress = document.createElement('progress');\n",
              "      progress.max = size;\n",
              "      div.appendChild(progress);\n",
              "      document.body.appendChild(div);\n",
              "\n",
              "      const buffers = [];\n",
              "      let downloaded = 0;\n",
              "\n",
              "      const channel = await google.colab.kernel.comms.open(id);\n",
              "      // Send a message to notify the kernel that we're ready.\n",
              "      channel.send({})\n",
              "\n",
              "      for await (const message of channel.messages) {\n",
              "        // Send a message to notify the kernel that we're ready.\n",
              "        channel.send({})\n",
              "        if (message.buffers) {\n",
              "          for (const buffer of message.buffers) {\n",
              "            buffers.push(buffer);\n",
              "            downloaded += buffer.byteLength;\n",
              "            progress.value = downloaded;\n",
              "          }\n",
              "        }\n",
              "      }\n",
              "      const blob = new Blob(buffers, {type: 'application/binary'});\n",
              "      const a = document.createElement('a');\n",
              "      a.href = window.URL.createObjectURL(blob);\n",
              "      a.download = filename;\n",
              "      div.appendChild(a);\n",
              "      a.click();\n",
              "      div.remove();\n",
              "    }\n",
              "  "
            ]
          },
          "metadata": {}
        },
        {
          "output_type": "display_data",
          "data": {
            "text/plain": [
              "<IPython.core.display.Javascript object>"
            ],
            "application/javascript": [
              "download(\"download_4d397697-3b38-48cc-b1d5-29bd891bc038\", \"nsap_model.pkl\", 168321)"
            ]
          },
          "metadata": {}
        }
      ]
    }
  ]
}